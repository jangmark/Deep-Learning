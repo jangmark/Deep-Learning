{
 "cells": [
  {
   "cell_type": "code",
   "execution_count": 2,
   "metadata": {},
   "outputs": [
    {
     "name": "stdout",
     "output_type": "stream",
     "text": [
      "Defaulting to user installation because normal site-packages is not writeable\n",
      "Collecting beautifulsoup4\n",
      "  Downloading beautifulsoup4-4.12.0-py3-none-any.whl (132 kB)\n",
      "     ---------------------------------------- 0.0/132.2 kB ? eta -:--:--\n",
      "     ---------------------------------------- 0.0/132.2 kB ? eta -:--:--\n",
      "     --------- ------------------------------ 30.7/132.2 kB ? eta -:--:--\n",
      "     ----------- ------------------------- 41.0/132.2 kB 653.6 kB/s eta 0:00:01\n",
      "     ----------------- ------------------- 61.4/132.2 kB 465.5 kB/s eta 0:00:01\n",
      "     -------------------- ---------------- 71.7/132.2 kB 491.5 kB/s eta 0:00:01\n",
      "     ------------------------- ----------- 92.2/132.2 kB 476.3 kB/s eta 0:00:01\n",
      "     ------------------------------ ----- 112.6/132.2 kB 467.6 kB/s eta 0:00:01\n",
      "     ------------------------------ ----- 112.6/132.2 kB 467.6 kB/s eta 0:00:01\n",
      "     ------------------------------------ 132.2/132.2 kB 389.7 kB/s eta 0:00:00\n",
      "Collecting soupsieve>1.2\n",
      "  Downloading soupsieve-2.4-py3-none-any.whl (37 kB)\n",
      "Installing collected packages: soupsieve, beautifulsoup4\n",
      "Successfully installed beautifulsoup4-4.12.0 soupsieve-2.4\n"
     ]
    }
   ],
   "source": [
    "from bs4 import BeautifulSoup\n",
    "\n",
    "import csv\n",
    "from bs4 import BeautifulSoup\n",
    "sentence = []\n",
    "labels = []\n",
    "\n",
    "with open('binary_emotion.csv',encoding='UTF-8') as csvfile:\n",
    "    reader = csv.reader(csvfile,delimiter=',')\n",
    "    for row in reader:\n",
    "        labels.append(int(row[0]))\n",
    "        sentence = row[1].lower()\n",
    "        sentence = sentence.replace(',',\" , \")\n",
    "        sentence = sentence.replace('.',\" . \")\n",
    "        sentence = sentence.replace('-',\" - \")\n",
    "        sentence = sentence.replace('/',\" / \")\n",
    "        soup = BeautifulSoup(sentence)\n",
    "        sentence = soup.get_text()"
   ]
  }
 ],
 "metadata": {
  "kernelspec": {
   "display_name": "pycaret",
   "language": "python",
   "name": "python3"
  },
  "language_info": {
   "codemirror_mode": {
    "name": "ipython",
    "version": 3
   },
   "file_extension": ".py",
   "mimetype": "text/x-python",
   "name": "python",
   "nbconvert_exporter": "python",
   "pygments_lexer": "ipython3",
   "version": "3.8.16 (default, Mar  2 2023, 03:18:16) [MSC v.1916 64 bit (AMD64)]"
  },
  "orig_nbformat": 4,
  "vscode": {
   "interpreter": {
    "hash": "16733b937653245b998924c3957ffd26102264677e01b42e71bf8548498724a5"
   }
  }
 },
 "nbformat": 4,
 "nbformat_minor": 2
}
