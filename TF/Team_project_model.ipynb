{
 "cells": [
  {
   "cell_type": "code",
   "execution_count": 56,
   "metadata": {},
   "outputs": [],
   "source": [
    "%matplotlib inline\n",
    "\n",
    "import pandas as pd\n",
    "import numpy as np\n",
    "import matplotlib.pyplot as plt\n",
    "import seaborn as sns\n",
    "\n",
    "import warnings\n",
    "warnings.filterwarnings('ignore')\n",
    "\n",
    "import re\n",
    "import pandas as pd\n",
    "import numpy as np\n",
    "import matplotlib.pyplot as plt\n",
    "import urllib.request\n",
    "from collections import Counter\n",
    "from konlpy.tag import Mecab\n",
    "from sklearn.model_selection import train_test_split\n",
    "from tensorflow.keras.preprocessing.text import Tokenizer\n",
    "from tensorflow.keras.preprocessing.sequence import pad_sequences"
   ]
  },
  {
   "attachments": {},
   "cell_type": "markdown",
   "metadata": {},
   "source": [
    "# 다중분류"
   ]
  },
  {
   "cell_type": "code",
   "execution_count": 8,
   "metadata": {},
   "outputs": [],
   "source": [
    "daegu_df = pd.read_csv('C:/Users/jangmark/please/data/deagu.csv')\n",
    "gwangju_df = pd.read_csv('C:/Users/jangmark/please/data/gwangju.csv')\n",
    "gyeonggi_df = pd.read_csv('C:/Users/jangmark/please/data/gyeonggi.csv')\n",
    "gyungju_df = pd.read_csv('C:/Users/jangmark/please/data/gyungju.csv')\n",
    "jeju_df = pd.read_csv('C:/Users/jangmark/please/data/jeju.csv')\n",
    "seoul_df = pd.read_csv('C:/Users/jangmark/please/data/seoul.csv')\n",
    "ulsan_df = pd.read_csv('C:/Users/jangmark/please/data/ulsan.csv')\n",
    "busan_df = pd.read_csv('C:/Users/jangmark/please/data/sample_부산3.csv')"
   ]
  },
  {
   "cell_type": "code",
   "execution_count": 9,
   "metadata": {},
   "outputs": [],
   "source": [
    "total_df = pd.concat([daegu_df, gwangju_df, gyeonggi_df, gyungju_df,jeju_df,seoul_df,ulsan_df,busan_df],axis=0,ignore_index=True)"
   ]
  },
  {
   "cell_type": "code",
   "execution_count": 12,
   "metadata": {},
   "outputs": [],
   "source": [
    "total_df = total_df.drop(['Unnamed: 0','리뷰자 평균 평점','리뷰자 누적 리뷰 개수','영업 시간','이미지url','가게명','가게 주소','메뉴','카카오 url'],axis=1)"
   ]
  },
  {
   "cell_type": "code",
   "execution_count": 14,
   "metadata": {},
   "outputs": [],
   "source": [
    "total_df.to_csv('total.csv')"
   ]
  },
  {
   "cell_type": "code",
   "execution_count": 16,
   "metadata": {},
   "outputs": [
    {
     "data": {
      "text/plain": [
       "리뷰    30840\n",
       "별점        0\n",
       "dtype: int64"
      ]
     },
     "execution_count": 16,
     "metadata": {},
     "output_type": "execute_result"
    }
   ],
   "source": [
    "total_df.isnull().sum()"
   ]
  },
  {
   "cell_type": "code",
   "execution_count": 17,
   "metadata": {},
   "outputs": [
    {
     "data": {
      "text/html": [
       "<div>\n",
       "<style scoped>\n",
       "    .dataframe tbody tr th:only-of-type {\n",
       "        vertical-align: middle;\n",
       "    }\n",
       "\n",
       "    .dataframe tbody tr th {\n",
       "        vertical-align: top;\n",
       "    }\n",
       "\n",
       "    .dataframe thead th {\n",
       "        text-align: right;\n",
       "    }\n",
       "</style>\n",
       "<table border=\"1\" class=\"dataframe\">\n",
       "  <thead>\n",
       "    <tr style=\"text-align: right;\">\n",
       "      <th></th>\n",
       "      <th>리뷰</th>\n",
       "      <th>별점</th>\n",
       "    </tr>\n",
       "  </thead>\n",
       "  <tbody>\n",
       "    <tr>\n",
       "      <th>0</th>\n",
       "      <td>수성못 옆이라서 분위기는 좋음. 근데 내 돈주고 먹지는 않을듯</td>\n",
       "      <td>3</td>\n",
       "    </tr>\n",
       "    <tr>\n",
       "      <th>1</th>\n",
       "      <td>음식 리필속도도 느리고 직원아주머니 불친절대기하면서까지 먹을게못됨어묵 다 식어서 뻣...</td>\n",
       "      <td>2</td>\n",
       "    </tr>\n",
       "    <tr>\n",
       "      <th>2</th>\n",
       "      <td>스시뷔페</td>\n",
       "      <td>5</td>\n",
       "    </tr>\n",
       "    <tr>\n",
       "      <th>3</th>\n",
       "      <td>스시뷔페</td>\n",
       "      <td>1</td>\n",
       "    </tr>\n",
       "    <tr>\n",
       "      <th>4</th>\n",
       "      <td>네</td>\n",
       "      <td>5</td>\n",
       "    </tr>\n",
       "    <tr>\n",
       "      <th>...</th>\n",
       "      <td>...</td>\n",
       "      <td>...</td>\n",
       "    </tr>\n",
       "    <tr>\n",
       "      <th>198278</th>\n",
       "      <td>아점으로 먹기 딱 좋은 곳..음식 수준은 다 괜찮고 가격도 괜찮은 편. 이케아 근처...</td>\n",
       "      <td>5</td>\n",
       "    </tr>\n",
       "    <tr>\n",
       "      <th>198280</th>\n",
       "      <td>비추입니다.느끼한거 좋아하는데도 짜고 느끼하니 안주같은 느낌입니다.감자튀김은 양은 ...</td>\n",
       "      <td>2</td>\n",
       "    </tr>\n",
       "    <tr>\n",
       "      <th>198281</th>\n",
       "      <td>음식 퀄리티 좋고가구, 인테리어 고급짐.다만 송정 이 곳 상권치고 매우 비쌈.</td>\n",
       "      <td>3</td>\n",
       "    </tr>\n",
       "    <tr>\n",
       "      <th>198282</th>\n",
       "      <td>맛은 무난했으나 많이 느끼했고 서비스가 정말 별로입니다.제가 앞접시 좀 달라고 했는...</td>\n",
       "      <td>2</td>\n",
       "    </tr>\n",
       "    <tr>\n",
       "      <th>198283</th>\n",
       "      <td>오믈렛 진짜 맛있어요</td>\n",
       "      <td>5</td>\n",
       "    </tr>\n",
       "  </tbody>\n",
       "</table>\n",
       "<p>167444 rows × 2 columns</p>\n",
       "</div>"
      ],
      "text/plain": [
       "                                                       리뷰  별점\n",
       "0                      수성못 옆이라서 분위기는 좋음. 근데 내 돈주고 먹지는 않을듯   3\n",
       "1       음식 리필속도도 느리고 직원아주머니 불친절대기하면서까지 먹을게못됨어묵 다 식어서 뻣...   2\n",
       "2                                                    스시뷔페   5\n",
       "3                                                    스시뷔페   1\n",
       "4                                                       네   5\n",
       "...                                                   ...  ..\n",
       "198278  아점으로 먹기 딱 좋은 곳..음식 수준은 다 괜찮고 가격도 괜찮은 편. 이케아 근처...   5\n",
       "198280  비추입니다.느끼한거 좋아하는데도 짜고 느끼하니 안주같은 느낌입니다.감자튀김은 양은 ...   2\n",
       "198281        음식 퀄리티 좋고가구, 인테리어 고급짐.다만 송정 이 곳 상권치고 매우 비쌈.   3\n",
       "198282  맛은 무난했으나 많이 느끼했고 서비스가 정말 별로입니다.제가 앞접시 좀 달라고 했는...   2\n",
       "198283                                        오믈렛 진짜 맛있어요   5\n",
       "\n",
       "[167444 rows x 2 columns]"
      ]
     },
     "execution_count": 17,
     "metadata": {},
     "output_type": "execute_result"
    }
   ],
   "source": [
    "del_row = total_df.dropna()\n",
    "del_row"
   ]
  },
  {
   "cell_type": "code",
   "execution_count": 19,
   "metadata": {},
   "outputs": [
    {
     "data": {
      "text/plain": [
       "리뷰    0\n",
       "별점    0\n",
       "dtype: int64"
      ]
     },
     "execution_count": 19,
     "metadata": {},
     "output_type": "execute_result"
    }
   ],
   "source": [
    "del_row.isnull().sum()"
   ]
  },
  {
   "cell_type": "code",
   "execution_count": 20,
   "metadata": {},
   "outputs": [
    {
     "data": {
      "text/html": [
       "<div>\n",
       "<style scoped>\n",
       "    .dataframe tbody tr th:only-of-type {\n",
       "        vertical-align: middle;\n",
       "    }\n",
       "\n",
       "    .dataframe tbody tr th {\n",
       "        vertical-align: top;\n",
       "    }\n",
       "\n",
       "    .dataframe thead th {\n",
       "        text-align: right;\n",
       "    }\n",
       "</style>\n",
       "<table border=\"1\" class=\"dataframe\">\n",
       "  <thead>\n",
       "    <tr style=\"text-align: right;\">\n",
       "      <th></th>\n",
       "      <th>리뷰</th>\n",
       "      <th>별점</th>\n",
       "    </tr>\n",
       "  </thead>\n",
       "  <tbody>\n",
       "    <tr>\n",
       "      <th>0</th>\n",
       "      <td>수성못 옆이라서 분위기는 좋음. 근데 내 돈주고 먹지는 않을듯</td>\n",
       "      <td>3</td>\n",
       "    </tr>\n",
       "    <tr>\n",
       "      <th>1</th>\n",
       "      <td>음식 리필속도도 느리고 직원아주머니 불친절대기하면서까지 먹을게못됨어묵 다 식어서 뻣...</td>\n",
       "      <td>2</td>\n",
       "    </tr>\n",
       "    <tr>\n",
       "      <th>2</th>\n",
       "      <td>스시뷔페</td>\n",
       "      <td>5</td>\n",
       "    </tr>\n",
       "    <tr>\n",
       "      <th>3</th>\n",
       "      <td>스시뷔페</td>\n",
       "      <td>1</td>\n",
       "    </tr>\n",
       "    <tr>\n",
       "      <th>4</th>\n",
       "      <td>네</td>\n",
       "      <td>5</td>\n",
       "    </tr>\n",
       "    <tr>\n",
       "      <th>...</th>\n",
       "      <td>...</td>\n",
       "      <td>...</td>\n",
       "    </tr>\n",
       "    <tr>\n",
       "      <th>198278</th>\n",
       "      <td>아점으로 먹기 딱 좋은 곳..음식 수준은 다 괜찮고 가격도 괜찮은 편. 이케아 근처...</td>\n",
       "      <td>5</td>\n",
       "    </tr>\n",
       "    <tr>\n",
       "      <th>198280</th>\n",
       "      <td>비추입니다.느끼한거 좋아하는데도 짜고 느끼하니 안주같은 느낌입니다.감자튀김은 양은 ...</td>\n",
       "      <td>2</td>\n",
       "    </tr>\n",
       "    <tr>\n",
       "      <th>198281</th>\n",
       "      <td>음식 퀄리티 좋고가구, 인테리어 고급짐.다만 송정 이 곳 상권치고 매우 비쌈.</td>\n",
       "      <td>3</td>\n",
       "    </tr>\n",
       "    <tr>\n",
       "      <th>198282</th>\n",
       "      <td>맛은 무난했으나 많이 느끼했고 서비스가 정말 별로입니다.제가 앞접시 좀 달라고 했는...</td>\n",
       "      <td>2</td>\n",
       "    </tr>\n",
       "    <tr>\n",
       "      <th>198283</th>\n",
       "      <td>오믈렛 진짜 맛있어요</td>\n",
       "      <td>5</td>\n",
       "    </tr>\n",
       "  </tbody>\n",
       "</table>\n",
       "<p>167444 rows × 2 columns</p>\n",
       "</div>"
      ],
      "text/plain": [
       "                                                       리뷰  별점\n",
       "0                      수성못 옆이라서 분위기는 좋음. 근데 내 돈주고 먹지는 않을듯   3\n",
       "1       음식 리필속도도 느리고 직원아주머니 불친절대기하면서까지 먹을게못됨어묵 다 식어서 뻣...   2\n",
       "2                                                    스시뷔페   5\n",
       "3                                                    스시뷔페   1\n",
       "4                                                       네   5\n",
       "...                                                   ...  ..\n",
       "198278  아점으로 먹기 딱 좋은 곳..음식 수준은 다 괜찮고 가격도 괜찮은 편. 이케아 근처...   5\n",
       "198280  비추입니다.느끼한거 좋아하는데도 짜고 느끼하니 안주같은 느낌입니다.감자튀김은 양은 ...   2\n",
       "198281        음식 퀄리티 좋고가구, 인테리어 고급짐.다만 송정 이 곳 상권치고 매우 비쌈.   3\n",
       "198282  맛은 무난했으나 많이 느끼했고 서비스가 정말 별로입니다.제가 앞접시 좀 달라고 했는...   2\n",
       "198283                                        오믈렛 진짜 맛있어요   5\n",
       "\n",
       "[167444 rows x 2 columns]"
      ]
     },
     "execution_count": 20,
     "metadata": {},
     "output_type": "execute_result"
    }
   ],
   "source": [
    "del_row"
   ]
  },
  {
   "cell_type": "code",
   "execution_count": 145,
   "metadata": {},
   "outputs": [
    {
     "data": {
      "text/plain": [
       "2561"
      ]
     },
     "execution_count": 145,
     "metadata": {},
     "output_type": "execute_result"
    }
   ],
   "source": [
    "del_row['리뷰'].duplicated().sum()"
   ]
  },
  {
   "cell_type": "code",
   "execution_count": 146,
   "metadata": {},
   "outputs": [],
   "source": [
    "del_row.drop_duplicates(subset=['리뷰'], inplace=True)"
   ]
  },
  {
   "cell_type": "code",
   "execution_count": 147,
   "metadata": {},
   "outputs": [
    {
     "data": {
      "text/plain": [
       "0"
      ]
     },
     "execution_count": 147,
     "metadata": {},
     "output_type": "execute_result"
    }
   ],
   "source": [
    "del_row['리뷰'].duplicated().sum()"
   ]
  },
  {
   "cell_type": "code",
   "execution_count": 148,
   "metadata": {},
   "outputs": [],
   "source": [
    "import pandas as pd\n",
    "import numpy as np\n",
    "import re\n",
    "from konlpy.tag import Okt\n",
    "from nltk import FreqDist\n",
    "from tensorflow.keras.preprocessing.text import Tokenizer\n",
    "from nltk.tokenize import TreebankWordTokenizer\n",
    "from nltk import FreqDist\n",
    "\n",
    "# 한글 정규식\n",
    "\n",
    "# Cast the '리뷰' column to strings\n",
    "del_row['리뷰'] = del_row['리뷰'].astype(str)\n",
    "\n",
    "# Define a regular expression pattern\n",
    "pattern = re.compile(\"[^가-힣 ]\") # 한글을 제외한 모든 글자 뺌\n",
    "\n",
    "# Apply the pattern substitution to the '리뷰' column\n",
    "del_row['리뷰'] = del_row['리뷰'].apply(lambda x: pattern.sub('', x))"
   ]
  },
  {
   "cell_type": "code",
   "execution_count": 25,
   "metadata": {},
   "outputs": [
    {
     "name": "stderr",
     "output_type": "stream",
     "text": [
      "100%|██████████| 159981/159981 [00:00<00:00, 343507.51it/s]\n"
     ]
    }
   ],
   "source": [
    "from tqdm import tqdm\n",
    "for i in tqdm(range(len(del_row))):\n",
    "  try:\n",
    "    result_df = spell_checker.check(del_row['리뷰'][i])\n",
    "    del_row['리뷰'][i] = result_df.as_dict()['checked']\n",
    "  except:\n",
    "    pass"
   ]
  },
  {
   "cell_type": "code",
   "execution_count": 149,
   "metadata": {},
   "outputs": [
    {
     "data": {
      "text/html": [
       "<div>\n",
       "<style scoped>\n",
       "    .dataframe tbody tr th:only-of-type {\n",
       "        vertical-align: middle;\n",
       "    }\n",
       "\n",
       "    .dataframe tbody tr th {\n",
       "        vertical-align: top;\n",
       "    }\n",
       "\n",
       "    .dataframe thead th {\n",
       "        text-align: right;\n",
       "    }\n",
       "</style>\n",
       "<table border=\"1\" class=\"dataframe\">\n",
       "  <thead>\n",
       "    <tr style=\"text-align: right;\">\n",
       "      <th></th>\n",
       "      <th>stop</th>\n",
       "    </tr>\n",
       "  </thead>\n",
       "  <tbody>\n",
       "    <tr>\n",
       "      <th>0</th>\n",
       "      <td>않다</td>\n",
       "    </tr>\n",
       "    <tr>\n",
       "      <th>1</th>\n",
       "      <td>되어다</td>\n",
       "    </tr>\n",
       "    <tr>\n",
       "      <th>2</th>\n",
       "      <td>되다</td>\n",
       "    </tr>\n",
       "    <tr>\n",
       "      <th>3</th>\n",
       "      <td>하다</td>\n",
       "    </tr>\n",
       "    <tr>\n",
       "      <th>4</th>\n",
       "      <td>어떻다</td>\n",
       "    </tr>\n",
       "    <tr>\n",
       "      <th>...</th>\n",
       "      <td>...</td>\n",
       "    </tr>\n",
       "    <tr>\n",
       "      <th>1284</th>\n",
       "      <td>휘익</td>\n",
       "    </tr>\n",
       "    <tr>\n",
       "      <th>1285</th>\n",
       "      <td>휴</td>\n",
       "    </tr>\n",
       "    <tr>\n",
       "      <th>1286</th>\n",
       "      <td>흐흐</td>\n",
       "    </tr>\n",
       "    <tr>\n",
       "      <th>1287</th>\n",
       "      <td>흥</td>\n",
       "    </tr>\n",
       "    <tr>\n",
       "      <th>1288</th>\n",
       "      <td>힘입어</td>\n",
       "    </tr>\n",
       "  </tbody>\n",
       "</table>\n",
       "<p>1289 rows × 1 columns</p>\n",
       "</div>"
      ],
      "text/plain": [
       "     stop\n",
       "0      않다\n",
       "1     되어다\n",
       "2      되다\n",
       "3      하다\n",
       "4     어떻다\n",
       "...   ...\n",
       "1284   휘익\n",
       "1285    휴\n",
       "1286   흐흐\n",
       "1287    흥\n",
       "1288  힘입어\n",
       "\n",
       "[1289 rows x 1 columns]"
      ]
     },
     "execution_count": 149,
     "metadata": {},
     "output_type": "execute_result"
    }
   ],
   "source": [
    "stop_word = pd.read_csv('C:/Users/jangmark/please/03_29/stopwords_kor.txt')\n",
    "stop_word"
   ]
  },
  {
   "cell_type": "code",
   "execution_count": 30,
   "metadata": {},
   "outputs": [
    {
     "name": "stderr",
     "output_type": "stream",
     "text": [
      "100%|██████████| 159981/159981 [27:22<00:00, 97.37it/s]   \n"
     ]
    }
   ],
   "source": [
    "stopwords = stop_word['stop'].tolist()\n",
    "okt = Okt()\n",
    "Okt_list = []\n",
    "for sentence in tqdm(del_row['리뷰']):\n",
    "    tokenized_sentence = okt.morphs(sentence, stem=True) # 토큰화\n",
    "    stopwords_removed_sentence = [word for word in tokenized_sentence if not word in stopwords] # 불용어 제거\n",
    "    Okt_list.append(stopwords_removed_sentence)"
   ]
  },
  {
   "cell_type": "code",
   "execution_count": 150,
   "metadata": {},
   "outputs": [],
   "source": [
    "result = []\n",
    "for okt_review in Okt_list:\n",
    "    result.append(' '.join(okt_review))"
   ]
  },
  {
   "cell_type": "code",
   "execution_count": 151,
   "metadata": {},
   "outputs": [],
   "source": [
    "review_df = pd.DataFrame(result)"
   ]
  },
  {
   "cell_type": "code",
   "execution_count": 152,
   "metadata": {},
   "outputs": [],
   "source": [
    "merged_df = pd.concat([review_df,total_df], axis=1, join='inner')"
   ]
  },
  {
   "cell_type": "code",
   "execution_count": 153,
   "metadata": {},
   "outputs": [
    {
     "data": {
      "text/html": [
       "<div>\n",
       "<style scoped>\n",
       "    .dataframe tbody tr th:only-of-type {\n",
       "        vertical-align: middle;\n",
       "    }\n",
       "\n",
       "    .dataframe tbody tr th {\n",
       "        vertical-align: top;\n",
       "    }\n",
       "\n",
       "    .dataframe thead th {\n",
       "        text-align: right;\n",
       "    }\n",
       "</style>\n",
       "<table border=\"1\" class=\"dataframe\">\n",
       "  <thead>\n",
       "    <tr style=\"text-align: right;\">\n",
       "      <th></th>\n",
       "      <th>0</th>\n",
       "      <th>리뷰</th>\n",
       "      <th>별점</th>\n",
       "    </tr>\n",
       "  </thead>\n",
       "  <tbody>\n",
       "    <tr>\n",
       "      <th>0</th>\n",
       "      <td>수성 못 이라서 분위기 좋다 근데 돈 주다 먹다</td>\n",
       "      <td>수성못 옆이라서 분위기는 좋음. 근데 내 돈주고 먹지는 않을듯</td>\n",
       "      <td>3</td>\n",
       "    </tr>\n",
       "    <tr>\n",
       "      <th>1</th>\n",
       "      <td>음식 리필 속도 느리다 직원 아주머니 불친절 대다 먹다 못 어묵 식다 뻣뻣하다 국도 다식</td>\n",
       "      <td>음식 리필속도도 느리고 직원아주머니 불친절대기하면서까지 먹을게못됨어묵 다 식어서 뻣...</td>\n",
       "      <td>2</td>\n",
       "    </tr>\n",
       "    <tr>\n",
       "      <th>2</th>\n",
       "      <td>스시 뷔페</td>\n",
       "      <td>스시뷔페</td>\n",
       "      <td>5</td>\n",
       "    </tr>\n",
       "    <tr>\n",
       "      <th>3</th>\n",
       "      <td></td>\n",
       "      <td>스시뷔페</td>\n",
       "      <td>1</td>\n",
       "    </tr>\n",
       "    <tr>\n",
       "      <th>4</th>\n",
       "      <td>맛 없다 초밥 만들다 직원 수다 고객 응대 정말 아니다 두 번은 가지</td>\n",
       "      <td>네</td>\n",
       "      <td>5</td>\n",
       "    </tr>\n",
       "    <tr>\n",
       "      <th>...</th>\n",
       "      <td>...</td>\n",
       "      <td>...</td>\n",
       "      <td>...</td>\n",
       "    </tr>\n",
       "    <tr>\n",
       "      <th>159976</th>\n",
       "      <td>점 먹기 좋다 음식 수준 괜찮다 가격 괜찮다 편 이케아 근처 제일 수준 높다 맛집 ...</td>\n",
       "      <td>반찬 다 먹어가고 나서야 밥이 나와요...; 그리고 솔직히 밥만 맛있고 제육볶음, ...</td>\n",
       "      <td>3</td>\n",
       "    </tr>\n",
       "    <tr>\n",
       "      <th>159977</th>\n",
       "      <td>비추다 느끼하다 좋아하다 짜다 느끼하다 안주 느낌 감자 튀김 양은 많다 파삭 유명 ...</td>\n",
       "      <td>개별로 주문도 늦게 나오고 매뉴도 특출나게 맛있는지 모르겠음 진심 자리값</td>\n",
       "      <td>1</td>\n",
       "    </tr>\n",
       "    <tr>\n",
       "      <th>159978</th>\n",
       "      <td>음식 퀄리티 좋다 인테리어 고급 지다 송정 상권 치고 매우 비싸다</td>\n",
       "      <td>맛도 별로... 특히 서비스가 진짜 별로에요...</td>\n",
       "      <td>1</td>\n",
       "    </tr>\n",
       "    <tr>\n",
       "      <th>159979</th>\n",
       "      <td>맛 무난 많이 느끼하다 서비스 정말 별로 앞 접시 달라 휴지 올려놓다 접시 가리키다...</td>\n",
       "      <td>솔직하게 맛! 집은 아니지만 친절한 집이였습니다.</td>\n",
       "      <td>4</td>\n",
       "    </tr>\n",
       "    <tr>\n",
       "      <th>159980</th>\n",
       "      <td>오믈렛 진짜 맛있다</td>\n",
       "      <td>갈비탕 맛있어요근데 넘 비싸요..🤧</td>\n",
       "      <td>4</td>\n",
       "    </tr>\n",
       "  </tbody>\n",
       "</table>\n",
       "<p>159981 rows × 3 columns</p>\n",
       "</div>"
      ],
      "text/plain": [
       "                                                        0  \\\n",
       "0                              수성 못 이라서 분위기 좋다 근데 돈 주다 먹다   \n",
       "1       음식 리필 속도 느리다 직원 아주머니 불친절 대다 먹다 못 어묵 식다 뻣뻣하다 국도 다식   \n",
       "2                                                   스시 뷔페   \n",
       "3                                                           \n",
       "4                  맛 없다 초밥 만들다 직원 수다 고객 응대 정말 아니다 두 번은 가지   \n",
       "...                                                   ...   \n",
       "159976  점 먹기 좋다 음식 수준 괜찮다 가격 괜찮다 편 이케아 근처 제일 수준 높다 맛집 ...   \n",
       "159977  비추다 느끼하다 좋아하다 짜다 느끼하다 안주 느낌 감자 튀김 양은 많다 파삭 유명 ...   \n",
       "159978               음식 퀄리티 좋다 인테리어 고급 지다 송정 상권 치고 매우 비싸다   \n",
       "159979  맛 무난 많이 느끼하다 서비스 정말 별로 앞 접시 달라 휴지 올려놓다 접시 가리키다...   \n",
       "159980                                         오믈렛 진짜 맛있다   \n",
       "\n",
       "                                                       리뷰  별점  \n",
       "0                      수성못 옆이라서 분위기는 좋음. 근데 내 돈주고 먹지는 않을듯   3  \n",
       "1       음식 리필속도도 느리고 직원아주머니 불친절대기하면서까지 먹을게못됨어묵 다 식어서 뻣...   2  \n",
       "2                                                    스시뷔페   5  \n",
       "3                                                    스시뷔페   1  \n",
       "4                                                       네   5  \n",
       "...                                                   ...  ..  \n",
       "159976  반찬 다 먹어가고 나서야 밥이 나와요...; 그리고 솔직히 밥만 맛있고 제육볶음, ...   3  \n",
       "159977           개별로 주문도 늦게 나오고 매뉴도 특출나게 맛있는지 모르겠음 진심 자리값   1  \n",
       "159978                        맛도 별로... 특히 서비스가 진짜 별로에요...   1  \n",
       "159979                        솔직하게 맛! 집은 아니지만 친절한 집이였습니다.   4  \n",
       "159980                                갈비탕 맛있어요근데 넘 비싸요..🤧   4  \n",
       "\n",
       "[159981 rows x 3 columns]"
      ]
     },
     "execution_count": 153,
     "metadata": {},
     "output_type": "execute_result"
    }
   ],
   "source": [
    "merged_df"
   ]
  },
  {
   "cell_type": "code",
   "execution_count": 154,
   "metadata": {},
   "outputs": [],
   "source": [
    "result_df = merged_df.drop(['리뷰'],axis=1)"
   ]
  },
  {
   "cell_type": "code",
   "execution_count": 155,
   "metadata": {},
   "outputs": [],
   "source": [
    "result_df.rename(columns = {0:'리뷰'},inplace=True)"
   ]
  },
  {
   "cell_type": "code",
   "execution_count": 156,
   "metadata": {},
   "outputs": [],
   "source": [
    "total_data = result_df.rename(columns = {'리뷰':'reviews','별점':'ratings'})"
   ]
  },
  {
   "cell_type": "code",
   "execution_count": 158,
   "metadata": {},
   "outputs": [
    {
     "data": {
      "text/html": [
       "<div>\n",
       "<style scoped>\n",
       "    .dataframe tbody tr th:only-of-type {\n",
       "        vertical-align: middle;\n",
       "    }\n",
       "\n",
       "    .dataframe tbody tr th {\n",
       "        vertical-align: top;\n",
       "    }\n",
       "\n",
       "    .dataframe thead th {\n",
       "        text-align: right;\n",
       "    }\n",
       "</style>\n",
       "<table border=\"1\" class=\"dataframe\">\n",
       "  <thead>\n",
       "    <tr style=\"text-align: right;\">\n",
       "      <th></th>\n",
       "      <th>reviews</th>\n",
       "      <th>ratings</th>\n",
       "    </tr>\n",
       "  </thead>\n",
       "  <tbody>\n",
       "    <tr>\n",
       "      <th>0</th>\n",
       "      <td>수성 못 이라서 분위기 좋다 근데 돈 주다 먹다</td>\n",
       "      <td>3</td>\n",
       "    </tr>\n",
       "    <tr>\n",
       "      <th>1</th>\n",
       "      <td>음식 리필 속도 느리다 직원 아주머니 불친절 대다 먹다 못 어묵 식다 뻣뻣하다 국도 다식</td>\n",
       "      <td>2</td>\n",
       "    </tr>\n",
       "    <tr>\n",
       "      <th>2</th>\n",
       "      <td>스시 뷔페</td>\n",
       "      <td>5</td>\n",
       "    </tr>\n",
       "    <tr>\n",
       "      <th>3</th>\n",
       "      <td></td>\n",
       "      <td>1</td>\n",
       "    </tr>\n",
       "    <tr>\n",
       "      <th>4</th>\n",
       "      <td>맛 없다 초밥 만들다 직원 수다 고객 응대 정말 아니다 두 번은 가지</td>\n",
       "      <td>5</td>\n",
       "    </tr>\n",
       "    <tr>\n",
       "      <th>...</th>\n",
       "      <td>...</td>\n",
       "      <td>...</td>\n",
       "    </tr>\n",
       "    <tr>\n",
       "      <th>159976</th>\n",
       "      <td>점 먹기 좋다 음식 수준 괜찮다 가격 괜찮다 편 이케아 근처 제일 수준 높다 맛집 ...</td>\n",
       "      <td>3</td>\n",
       "    </tr>\n",
       "    <tr>\n",
       "      <th>159977</th>\n",
       "      <td>비추다 느끼하다 좋아하다 짜다 느끼하다 안주 느낌 감자 튀김 양은 많다 파삭 유명 ...</td>\n",
       "      <td>1</td>\n",
       "    </tr>\n",
       "    <tr>\n",
       "      <th>159978</th>\n",
       "      <td>음식 퀄리티 좋다 인테리어 고급 지다 송정 상권 치고 매우 비싸다</td>\n",
       "      <td>1</td>\n",
       "    </tr>\n",
       "    <tr>\n",
       "      <th>159979</th>\n",
       "      <td>맛 무난 많이 느끼하다 서비스 정말 별로 앞 접시 달라 휴지 올려놓다 접시 가리키다...</td>\n",
       "      <td>4</td>\n",
       "    </tr>\n",
       "    <tr>\n",
       "      <th>159980</th>\n",
       "      <td>오믈렛 진짜 맛있다</td>\n",
       "      <td>4</td>\n",
       "    </tr>\n",
       "  </tbody>\n",
       "</table>\n",
       "<p>159981 rows × 2 columns</p>\n",
       "</div>"
      ],
      "text/plain": [
       "                                                  reviews  ratings\n",
       "0                              수성 못 이라서 분위기 좋다 근데 돈 주다 먹다        3\n",
       "1       음식 리필 속도 느리다 직원 아주머니 불친절 대다 먹다 못 어묵 식다 뻣뻣하다 국도 다식        2\n",
       "2                                                   스시 뷔페        5\n",
       "3                                                                1\n",
       "4                  맛 없다 초밥 만들다 직원 수다 고객 응대 정말 아니다 두 번은 가지        5\n",
       "...                                                   ...      ...\n",
       "159976  점 먹기 좋다 음식 수준 괜찮다 가격 괜찮다 편 이케아 근처 제일 수준 높다 맛집 ...        3\n",
       "159977  비추다 느끼하다 좋아하다 짜다 느끼하다 안주 느낌 감자 튀김 양은 많다 파삭 유명 ...        1\n",
       "159978               음식 퀄리티 좋다 인테리어 고급 지다 송정 상권 치고 매우 비싸다        1\n",
       "159979  맛 무난 많이 느끼하다 서비스 정말 별로 앞 접시 달라 휴지 올려놓다 접시 가리키다...        4\n",
       "159980                                         오믈렛 진짜 맛있다        4\n",
       "\n",
       "[159981 rows x 2 columns]"
      ]
     },
     "execution_count": 158,
     "metadata": {},
     "output_type": "execute_result"
    }
   ],
   "source": [
    "total_data"
   ]
  },
  {
   "cell_type": "code",
   "execution_count": 142,
   "metadata": {},
   "outputs": [],
   "source": [
    "total_data.to_csv('total.csv')"
   ]
  },
  {
   "cell_type": "code",
   "execution_count": null,
   "metadata": {},
   "outputs": [],
   "source": [
    "# 아래에서 패딩과 적절한 단어수 완료된 상태.\n",
    "\n",
    "import pandas as pd\n",
    "import numpy as np\n",
    "from keras.preprocessing.text import Tokenizer\n",
    "from tensorflow.keras.preprocessing.sequence import pad_sequences\n",
    "from keras.utils import to_categorical\n",
    "from keras.models import Sequential\n",
    "from keras.layers import Embedding, LSTM, Dense, Dropout\n",
    "\n",
    "# load the data\n",
    "\n",
    "reviews = total_data['reviews']\n",
    "labels = total_data['ratings']\n",
    "\n",
    "# prepare the data\n",
    "tokenizer = Tokenizer(num_words=5000)\n",
    "tokenizer.fit_on_texts(reviews)\n",
    "sequences = tokenizer.texts_to_sequences(reviews)\n",
    "padded_sequences = pad_sequences(sequences, maxlen=60)\n",
    "\n",
    "one_hot_labels = to_categorical(labels - 1)\n",
    "\n",
    "# build the model\n",
    "model = Sequential()\n",
    "model.add(Embedding(5000, 128, input_length=60))\n",
    "model.add(LSTM(64))\n",
    "model.add(Dropout(0.5))\n",
    "model.add(Dense(5, activation='softmax'))\n",
    "\n",
    "model.compile(loss='categorical_crossentropy', optimizer='adam', metrics=['accuracy'])\n",
    "\n",
    "# train the model\n",
    "model.fit(padded_sequences, one_hot_labels, epochs=5, batch_size=16, validation_split=0.2)"
   ]
  },
  {
   "cell_type": "code",
   "execution_count": null,
   "metadata": {},
   "outputs": [],
   "source": [
    "new_reviews = ['수성 못 이라서 분위기 좋다 근데 돈 주다 먹다',\n",
    " '음식 리필 속도 느리다 직원 아주머니 불친절 대다 먹다 못 어묵 식다 뻣뻣하다 국도 다식',\n",
    " '스시 뷔페',\n",
    " '맛 없다 초밥 만들다 직원 수다 고객 응대 정말 아니다 두 번은 가지',\n",
    " '기준 작년 대비 천원 가격 인상 인 원 메뉴 사시미 추가 때문 가격 인상 이라 붙다 한치 회 새롭다 두다 천원 인상방문 의사 없다',\n",
    " '소문나다 잔치 집 물다 없다 초밥 은 쿠우 쿠우 대 동 소이 외 음식 은 결혼식 뷔페 보다 못 걸 구태 줄 서서 먹다',\n",
    " '기다리다 은 점점 길어지다 음식 은 점점 별로 임',\n",
    " '리필 빠르다 음식 깔끔하다 차림',\n",
    " '굳이 갈다 이유 없다',\n",
    " '전화 분 째 통화 중 인 이유 설명 요',\n",
    " '쓰레기']\n",
    "\n",
    "new_sequences = tokenizer.texts_to_sequences(new_reviews)\n",
    "new_padded_sequences = pad_sequences(new_sequences, maxlen=50)\n",
    "predictions = model.predict(new_padded_sequences)\n",
    "predicted_labels = np.argmax(predictions, axis=1) + 1\n",
    "print(predicted_labels)"
   ]
  },
  {
   "attachments": {},
   "cell_type": "markdown",
   "metadata": {},
   "source": [
    "# 긍정 vs 부정 이중분류 => 안씀"
   ]
  },
  {
   "cell_type": "code",
   "execution_count": null,
   "metadata": {},
   "outputs": [],
   "source": [
    "이중 분류\n",
    "total_data['label'] = np.select([total_df.ratings > 4], [1], default=0)\n",
    "total_data[:5]"
   ]
  },
  {
   "cell_type": "code",
   "execution_count": 160,
   "metadata": {},
   "outputs": [
    {
     "data": {
      "text/plain": [
       "(5, 153759, 2)"
      ]
     },
     "execution_count": 160,
     "metadata": {},
     "output_type": "execute_result"
    }
   ],
   "source": [
    "total_data['ratings'].nunique(), total_data['reviews'].nunique(), total_data['label'].nunique()"
   ]
  },
  {
   "cell_type": "code",
   "execution_count": 161,
   "metadata": {},
   "outputs": [
    {
     "name": "stdout",
     "output_type": "stream",
     "text": [
      "총 샘플의 수 : 153759\n"
     ]
    }
   ],
   "source": [
    "total_data.drop_duplicates(subset=['reviews'], inplace=True) # reviews 열에서 중복인 내용이 있다면 중복 제거\n",
    "print('총 샘플의 수 :',len(total_data))"
   ]
  },
  {
   "cell_type": "code",
   "execution_count": 162,
   "metadata": {},
   "outputs": [
    {
     "name": "stdout",
     "output_type": "stream",
     "text": [
      "False\n"
     ]
    }
   ],
   "source": [
    "print(total_data.isnull().values.any())"
   ]
  },
  {
   "cell_type": "code",
   "execution_count": 163,
   "metadata": {},
   "outputs": [
    {
     "name": "stdout",
     "output_type": "stream",
     "text": [
      "훈련용 리뷰의 개수 : 115319\n",
      "테스트용 리뷰의 개수 : 38440\n"
     ]
    }
   ],
   "source": [
    "train_data, test_data = train_test_split(total_data, test_size = 0.25, random_state = 42)\n",
    "print('훈련용 리뷰의 개수 :', len(train_data))\n",
    "print('테스트용 리뷰의 개수 :', len(test_data))"
   ]
  },
  {
   "cell_type": "code",
   "execution_count": 164,
   "metadata": {},
   "outputs": [
    {
     "data": {
      "text/plain": [
       "<AxesSubplot: >"
      ]
     },
     "execution_count": 164,
     "metadata": {},
     "output_type": "execute_result"
    },
    {
     "data": {
      "image/png": "[encoded data removed]",
      "text/plain": [
       "<Figure size 640x480 with 1 Axes>"
      ]
     },
     "metadata": {},
     "output_type": "display_data"
    }
   ],
   "source": [
    "train_data['label'].value_counts().plot(kind = 'bar')"
   ]
  },
  {
   "cell_type": "code",
   "execution_count": 165,
   "metadata": {},
   "outputs": [
    {
     "name": "stdout",
     "output_type": "stream",
     "text": [
      "reviews    1\n",
      "ratings    0\n",
      "label      0\n",
      "dtype: int64\n"
     ]
    }
   ],
   "source": [
    "# 한글과 공백을 제외하고 모두 제거\n",
    "train_data['reviews'] = train_data['reviews'].str.replace(\"[^ㄱ-ㅎㅏ-ㅣ가-힣 ]\",\"\")\n",
    "train_data['reviews'].replace('', np.nan, inplace=True)\n",
    "print(train_data.isnull().sum())"
   ]
  },
  {
   "cell_type": "code",
   "execution_count": 166,
   "metadata": {},
   "outputs": [
    {
     "name": "stdout",
     "output_type": "stream",
     "text": [
      "전처리 후 테스트용 샘플의 개수 : 38440\n"
     ]
    }
   ],
   "source": [
    "test_data.drop_duplicates(subset = ['reviews'], inplace=True) # 중복 제거\n",
    "test_data['reviews'] = test_data['reviews'].str.replace(\"[^ㄱ-ㅎㅏ-ㅣ가-힣 ]\",\"\") # 정규 표현식 수행\n",
    "test_data['reviews'].replace('', np.nan, inplace=True) # 공백은 Null 값으로 변경\n",
    "test_data = test_data.dropna(how='any') # Null 값 제거\n",
    "print('전처리 후 테스트용 샘플의 개수 :',len(test_data))"
   ]
  },
  {
   "cell_type": "code",
   "execution_count": 81,
   "metadata": {},
   "outputs": [
    {
     "name": "stdout",
     "output_type": "stream",
     "text": [
      "전처리 후 테스트용 샘플의 개수 : 38440\n"
     ]
    }
   ],
   "source": [
    "test_data.drop_duplicates(subset = ['reviews'], inplace=True) # reviews 열에서 중복인 내용이 있다면 중복 제거\n",
    "test_data['reviews'] = test_data['reviews'].str.replace(\"[^가-힣 ]\",\"\") # 정규 표현식 수행\n",
    "test_data['reviews'] = test_data['reviews'].str.replace('^ +', \"\") # 공백은 empty 값으로 변경\n",
    "test_data['reviews'].replace('', np.nan, inplace=True) # 공백은 Null 값으로 변경\n",
    "test_data = test_data.dropna(how='any') # Null 값 제거\n",
    "print('전처리 후 테스트용 샘플의 개수 :',len(test_data))"
   ]
  },
  {
   "cell_type": "code",
   "execution_count": 168,
   "metadata": {},
   "outputs": [
    {
     "name": "stderr",
     "output_type": "stream",
     "text": [
      "100%|██████████| 38440/38440 [03:20<00:00, 191.44it/s]\n"
     ]
    }
   ],
   "source": [
    "# 단어와 길이 분포 확인\n",
    "X_test = []\n",
    "for sentence in tqdm(test_data['reviews']):\n",
    "    tokenized_sentence = okt.morphs(sentence, stem=True) # 토큰화\n",
    "    stopwords_removed_sentence = [word for word in tokenized_sentence if not word in stopwords] # 불용어 제거\n",
    "    X_test.append(stopwords_removed_sentence)"
   ]
  },
  {
   "cell_type": "code",
   "execution_count": 169,
   "metadata": {},
   "outputs": [
    {
     "name": "stderr",
     "output_type": "stream",
     "text": [
      "100%|██████████| 115319/115319 [11:29<00:00, 167.18it/s]\n"
     ]
    }
   ],
   "source": [
    "X_train = []\n",
    "for sentence in tqdm(train_data['reviews']):\n",
    "    if isinstance(sentence, float) and np.isnan(sentence):\n",
    "        continue\n",
    "    tokenized_sentence = okt.morphs(sentence, stem=True) # 토큰화\n",
    "    stopwords_removed_sentence = [word for word in tokenized_sentence if not word in stopwords] # 불용어 제거\n",
    "    X_train.append(stopwords_removed_sentence)"
   ]
  },
  {
   "cell_type": "code",
   "execution_count": 170,
   "metadata": {},
   "outputs": [
    {
     "name": "stdout",
     "output_type": "stream",
     "text": [
      "[['불쇼', '보다', '가세'], ['위생', '별로', '친절', '별로', '맛', '좋다', '재', '방문', '의사'], ['주', '문후', '분', '기다리다', '반찬', '안', '나오다', '나오다', '물어보다', '주문', '안', '들어가다', '상태', '그렇다', '올라가다', '기다리다', '함', '확인', '해보다', '이제', '불', '올', '리다', '준비', '중사', '과는', '안', '변명', '끝', '사과', '안', '들리다', '빼다', '오다', '누가', '들다', '잘몬한줄', '알다', '차다', '대단하다', '번창', '꼭']]\n"
     ]
    }
   ],
   "source": [
    "print(X_train[:3])"
   ]
  },
  {
   "cell_type": "code",
   "execution_count": 171,
   "metadata": {},
   "outputs": [],
   "source": [
    "tokenizer = Tokenizer()\n",
    "tokenizer.fit_on_texts(X_train)"
   ]
  },
  {
   "cell_type": "code",
   "execution_count": 172,
   "metadata": {},
   "outputs": [
    {
     "name": "stdout",
     "output_type": "stream",
     "text": [
      "단어 집합(vocabulary)의 크기 : 34879\n",
      "등장 빈도가 2번 이하인 희귀 단어의 수: 18781\n",
      "단어 집합에서 희귀 단어의 비율: 53.84615384615385\n",
      "전체 등장 빈도에서 희귀 단어 등장 빈도 비율: 1.0675653229472342\n"
     ]
    }
   ],
   "source": [
    "threshold = 3\n",
    "total_cnt = len(tokenizer.word_index) # 단어의 수\n",
    "rare_cnt = 0 # 등장 빈도수가 threshold보다 작은 단어의 개수를 카운트\n",
    "total_freq = 0 # 훈련 데이터의 전체 단어 빈도수 총 합\n",
    "rare_freq = 0 # 등장 빈도수가 threshold보다 작은 단어의 등장 빈도수의 총 합\n",
    "\n",
    "# 단어와 빈도수의 쌍(pair)을 key와 value로 받는다.\n",
    "for key, value in tokenizer.word_counts.items():\n",
    "    total_freq = total_freq + value\n",
    "\n",
    "    # 단어의 등장 빈도수가 threshold보다 작으면\n",
    "    if(value < threshold):\n",
    "        rare_cnt = rare_cnt + 1\n",
    "        rare_freq = rare_freq + value\n",
    "\n",
    "print('단어 집합(vocabulary)의 크기 :',total_cnt)\n",
    "print('등장 빈도가 %s번 이하인 희귀 단어의 수: %s'%(threshold - 1, rare_cnt))\n",
    "print(\"단어 집합에서 희귀 단어의 비율:\", (rare_cnt / total_cnt)*100)\n",
    "print(\"전체 등장 빈도에서 희귀 단어 등장 빈도 비율:\", (rare_freq / total_freq)*100)"
   ]
  },
  {
   "cell_type": "code",
   "execution_count": 173,
   "metadata": {},
   "outputs": [
    {
     "name": "stdout",
     "output_type": "stream",
     "text": [
      "단어 집합의 크기 : 16099\n"
     ]
    }
   ],
   "source": [
    "# 전체 단어 개수 중 빈도수 2이하인 단어는 제거.\n",
    "# 0번 패딩 토큰을 고려하여 + 1\n",
    "vocab_size = total_cnt - rare_cnt + 1\n",
    "print('단어 집합의 크기 :',vocab_size)"
   ]
  },
  {
   "cell_type": "code",
   "execution_count": 174,
   "metadata": {},
   "outputs": [],
   "source": [
    "tokenizer = Tokenizer(vocab_size) \n",
    "tokenizer.fit_on_texts(X_train)\n",
    "X_train = tokenizer.texts_to_sequences(X_train)\n",
    "X_test = tokenizer.texts_to_sequences(X_test)"
   ]
  },
  {
   "cell_type": "code",
   "execution_count": 175,
   "metadata": {},
   "outputs": [],
   "source": [
    "y_train = np.array(train_data['label'])\n",
    "y_test = np.array(test_data['label'])"
   ]
  },
  {
   "cell_type": "code",
   "execution_count": 99,
   "metadata": {},
   "outputs": [],
   "source": [
    "drop_train = [index for index, sentence in enumerate(X_train) if len(sentence) < 1]"
   ]
  },
  {
   "cell_type": "code",
   "execution_count": 176,
   "metadata": {},
   "outputs": [
    {
     "name": "stdout",
     "output_type": "stream",
     "text": [
      "115188\n",
      "115189\n"
     ]
    }
   ],
   "source": [
    "# 빈 샘플들을 제거\n",
    "X_train = np.delete(X_train, drop_train, axis=0)\n",
    "y_train = np.delete(y_train, drop_train, axis=0)\n",
    "print(len(X_train))\n",
    "print(len(y_train))"
   ]
  },
  {
   "cell_type": "code",
   "execution_count": 177,
   "metadata": {},
   "outputs": [
    {
     "name": "stdout",
     "output_type": "stream",
     "text": [
      "리뷰의 최대 길이 : 498\n",
      "리뷰의 평균 길이 : 18.459718026183282\n"
     ]
    },
    {
     "data": {
      "image/png": "[encoded data removed]",
      "text/plain": [
       "<Figure size 640x480 with 1 Axes>"
      ]
     },
     "metadata": {},
     "output_type": "display_data"
    }
   ],
   "source": [
    "print('리뷰의 최대 길이 :',max(len(review) for review in X_train))\n",
    "print('리뷰의 평균 길이 :',sum(map(len, X_train))/len(X_train))\n",
    "plt.hist([len(review) for review in X_train], bins=50)\n",
    "plt.xlabel('length of samples')\n",
    "plt.ylabel('number of samples')\n",
    "plt.show()"
   ]
  },
  {
   "cell_type": "code",
   "execution_count": 178,
   "metadata": {},
   "outputs": [],
   "source": [
    "def below_threshold_len(max_len, nested_list):\n",
    "  count = 0\n",
    "  for sentence in nested_list:\n",
    "    if(len(sentence) <= max_len):\n",
    "        count = count + 1\n",
    "  print('전체 샘플 중 길이가 %s 이하인 샘플의 비율: %s'%(max_len, (count / len(nested_list))*100))"
   ]
  },
  {
   "cell_type": "code",
   "execution_count": 179,
   "metadata": {},
   "outputs": [
    {
     "name": "stdout",
     "output_type": "stream",
     "text": [
      "전체 샘플 중 길이가 60 이하인 샘플의 비율: 96.147168107789\n"
     ]
    }
   ],
   "source": [
    "max_len = 60\n",
    "below_threshold_len(max_len, X_train)"
   ]
  },
  {
   "cell_type": "code",
   "execution_count": 180,
   "metadata": {},
   "outputs": [],
   "source": [
    "X_train = pad_sequences(X_train, maxlen=max_len)\n",
    "X_test = pad_sequences(X_test, maxlen=max_len)"
   ]
  }
 ],
 "metadata": {
  "kernelspec": {
   "display_name": "pycaret",
   "language": "python",
   "name": "python3"
  },
  "language_info": {
   "codemirror_mode": {
    "name": "ipython",
    "version": 3
   },
   "file_extension": ".py",
   "mimetype": "text/x-python",
   "name": "python",
   "nbconvert_exporter": "python",
   "pygments_lexer": "ipython3",
   "version": "3.8.16 (default, Mar  2 2023, 03:18:16) [MSC v.1916 64 bit (AMD64)]"
  },
  "orig_nbformat": 4,
  "vscode": {
   "interpreter": {
    "hash": "16733b937653245b998924c3957ffd26102264677e01b42e71bf8548498724a5"
   }
  }
 },
 "nbformat": 4,
 "nbformat_minor": 2
}
