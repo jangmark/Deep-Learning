{
 "cells": [
  {
   "cell_type": "code",
   "execution_count": 13,
   "metadata": {},
   "outputs": [
    {
     "name": "stdout",
     "output_type": "stream",
     "text": [
      "showing info https://raw.githubusercontent.com/nltk/nltk_data/gh-pages/index.xml\n"
     ]
    },
    {
     "data": {
      "text/plain": [
       "True"
      ]
     },
     "execution_count": 13,
     "metadata": {},
     "output_type": "execute_result"
    }
   ],
   "source": [
    "import nltk\n",
    "nltk.download()"
   ]
  },
  {
   "cell_type": "code",
   "execution_count": 12,
   "metadata": {},
   "outputs": [
    {
     "ename": "TypeError",
     "evalue": "'TreebankWordDetokenizer' object is not callable",
     "output_type": "error",
     "traceback": [
      "\u001b[1;31m---------------------------------------------------------------------------\u001b[0m",
      "\u001b[1;31mTypeError\u001b[0m                                 Traceback (most recent call last)",
      "Cell \u001b[1;32mIn[12], line 5\u001b[0m\n\u001b[0;32m      3\u001b[0m tokenizer \u001b[39m=\u001b[39m TreebankWordDetokenizer()\n\u001b[0;32m      4\u001b[0m text \u001b[39m=\u001b[39m \u001b[39m'\u001b[39m\u001b[39mModel-based TL dont need a value\u001b[39m\u001b[39m'\u001b[39m\n\u001b[1;32m----> 5\u001b[0m \u001b[39mprint\u001b[39m(tokenizer,tokenizer(text))\n",
      "\u001b[1;31mTypeError\u001b[0m: 'TreebankWordDetokenizer' object is not callable"
     ]
    }
   ],
   "source": [
    "# 단어토큰화\n",
    "from nltk.tokenize import TreebankWordDetokenizer\n",
    "tokenizer = TreebankWordDetokenizer()\n",
    "text = 'Model-based TL dont need a value'\n",
    "print(tokenizer,tokenizer(text))"
   ]
  },
  {
   "cell_type": "code",
   "execution_count": null,
   "metadata": {},
   "outputs": [],
   "source": [
    "# 정제\n"
   ]
  },
  {
   "attachments": {},
   "cell_type": "markdown",
   "metadata": {},
   "source": [
    "- 정제\n",
    "- 데이터 사용 목적에 맞추어 노이즈 제거\n",
    " - 대문자 vs 소문자\n",
    " - 출현 횟수가 적은 단어의 제거\n",
    " - 길이가 짧은 단어, 지시(대)명사, 관사의 제거\n",
    "\n",
    "- 어간 추출(Stemming)\n",
    "    - 대표적인 추출 방법(Portal algorism)\n",
    "\n",
    "- 어간 추출 vs 표제어 추출\n",
    "    - 표제어 추출은 단어의 품사정보를 포함\n",
    "    - 어간 추출은 품사 정보를 갖고 있지 않\n"
   ]
  },
  {
   "cell_type": "code",
   "execution_count": 14,
   "metadata": {},
   "outputs": [
    {
     "name": "stdout",
     "output_type": "stream",
     "text": [
      "['i', 'me', 'my', 'myself', 'we']\n"
     ]
    },
    {
     "name": "stderr",
     "output_type": "stream",
     "text": [
      "[nltk_data] Downloading package stopwords to\n",
      "[nltk_data]     C:\\Users\\jangmark\\AppData\\Roaming\\nltk_data...\n",
      "[nltk_data]   Unzipping corpora\\stopwords.zip.\n"
     ]
    }
   ],
   "source": [
    "# 불용어 : 문장에서 대세로 작용하지 않는, 중요도가 낮은 단어 제거\n",
    "\n",
    "import nltk\n",
    "nltk.download('stopwords')\n",
    "from nltk.corpus import stopwords\n",
    "print(stopwords.words('english')[:5])"
   ]
  },
  {
   "cell_type": "code",
   "execution_count": 15,
   "metadata": {},
   "outputs": [
    {
     "name": "stderr",
     "output_type": "stream",
     "text": [
      "[nltk_data] Downloading package stopwords to\n",
      "[nltk_data]     C:\\Users\\jangmark\\AppData\\Roaming\\nltk_data...\n",
      "[nltk_data]   Package stopwords is already up-to-date!\n",
      "[nltk_data] Downloading package punkt to\n",
      "[nltk_data]     C:\\Users\\jangmark\\AppData\\Roaming\\nltk_data...\n",
      "[nltk_data]   Unzipping tokenizers\\punkt.zip.\n"
     ]
    },
    {
     "name": "stdout",
     "output_type": "stream",
     "text": [
      "['We', 'should', 'all', 'study', 'hard', 'for', 'the', 'exam']\n",
      "{'about', 'its', \"haven't\", \"doesn't\", 'which', 'yours', 'to', 'doesn', 'who', 'me', 'in', 'such', 'themselves', 'theirs', 'those', 'no', \"that'll\", 'over', 'up', 'aren', 'all', 'itself', 'above', 'own', 'where', \"hasn't\", 'hadn', 'there', 's', 'again', \"shouldn't\", 'do', 'is', 'were', 'with', 'ma', 'but', 'it', 'our', \"needn't\", \"should've\", 'more', 'further', 'don', 'both', 'how', 'while', 'of', 'into', 'they', 'mightn', 'i', 'if', 'only', 'haven', 'as', 'did', 'other', 'during', 'yourself', 'can', 'mustn', 'and', 'hasn', 'myself', 'had', 'does', \"you'll\", 'what', 'under', 'are', 'have', 'very', 'we', 'ourselves', 'didn', \"you're\", 'he', 'each', 'not', 'after', 'on', \"isn't\", 'him', 'when', 'you', 'shouldn', 'below', 'before', \"wouldn't\", 'why', 'being', 'his', 'out', 'll', 'yourselves', 'whom', 'few', 'then', 'having', \"shan't\", \"she's\", 'because', 'for', 'be', 'now', 'wouldn', 'some', 'himself', 'once', \"aren't\", 'by', \"wasn't\", 'here', 't', 'been', 'same', 'ain', 'm', 'or', 'your', 'too', \"mightn't\", 've', 'y', 're', \"couldn't\", 'won', 'needn', 'o', 'at', 'd', 'has', 'between', 'weren', 'their', 'her', 'shan', 'my', 'that', 'through', 'couldn', 'doing', 'until', \"hadn't\", 'isn', \"mustn't\", 'off', 'these', 'nor', \"won't\", 'down', 'than', 'an', 'so', 'hers', 'was', \"weren't\", 'should', \"you'd\", 'the', \"don't\", 'against', 'any', 'will', 'just', 'wasn', 'am', 'she', 'most', 'a', 'this', 'herself', \"you've\", 'from', 'them', 'ours', \"didn't\", \"it's\"}\n",
      "['We', 'study', 'hard', 'exam']\n"
     ]
    }
   ],
   "source": [
    "import nltk\n",
    "nltk.download('stopwords')\n",
    "nltk.download('punkt')\n",
    "from nltk.corpus import stopwords\n",
    "from nltk.tokenize import word_tokenize\n",
    "\n",
    "input_sentence = 'We should all study hard for the exam'\n",
    "stop_words=set(stopwords.words('english'))\n",
    "word_tokens = word_tokenize(input_sentence)\n",
    "result = []\n",
    "for w in word_tokens:\n",
    "    if w not in stop_words:\n",
    "        result.append(w)\n",
    "\n",
    "print(word_tokens)\n",
    "print(stop_words)\n",
    "print(result)"
   ]
  },
  {
   "cell_type": "code",
   "execution_count": 16,
   "metadata": {},
   "outputs": [
    {
     "name": "stdout",
     "output_type": "stream",
     "text": [
      "0 eng\n",
      "1 math\n",
      "2 sci\n"
     ]
    }
   ],
   "source": [
    "# 정수 인코딩(Integer-Encoding) : \n",
    "# 문자의 토큰화 - 불용어 및 대문자 제거 과정\n",
    "# 빈단어 dictionary vocab = {}를 만듦\n",
    "# 토큰화된 각 단어에 대해서 : 속하면 +=1 안하면 0\n",
    "\n",
    "# 빈도수\n",
    "\n",
    "mylist = ['eng','math','sci']\n",
    "\n",
    "for n,name in enumerate(mylist):\n",
    "    print(n,name)\n"
   ]
  },
  {
   "cell_type": "code",
   "execution_count": null,
   "metadata": {},
   "outputs": [],
   "source": [
    "# padding (Zero-padding)\n",
    "# 문장들에 정수 인코딩을 거친다.\n",
    "# 각 문장에 대해서: 해당 문장이 가장 긴 문장의 길이보다 작을 경우: 문장 길이를 맞출 때까지 0을 뒤에 추가\n",
    "\n",
    "# Word2vec Encoding\n",
    "# 단어의 유사성을 인코딩에 반영\n",
    "# 인코딩 벡터가 비슷하다 = 단어가 유사하다"
   ]
  },
  {
   "attachments": {},
   "cell_type": "markdown",
   "metadata": {},
   "source": [
    "TF-IDF\n",
    "단어들의 중요한 정도를 가중치로 매기는 방법\n",
    "tf(d,t):특정 문서 d에서 특정 단어 t의 등장 횟수\n",
    "\n",
    "Interim Summary \n",
    "토큰화 -> 정제,추출 -> 인코딩(패딩) \n",
    "\n",
    "- 유사도 분석\n",
    "벡터 유사도 : Cosine Metric\n",
    "\n"
   ]
  },
  {
   "cell_type": "code",
   "execution_count": null,
   "metadata": {},
   "outputs": [],
   "source": []
  }
 ],
 "metadata": {
  "kernelspec": {
   "display_name": "pycaret",
   "language": "python",
   "name": "python3"
  },
  "language_info": {
   "codemirror_mode": {
    "name": "ipython",
    "version": 3
   },
   "file_extension": ".py",
   "mimetype": "text/x-python",
   "name": "python",
   "nbconvert_exporter": "python",
   "pygments_lexer": "ipython3",
   "version": "3.8.16 (default, Mar  2 2023, 03:18:16) [MSC v.1916 64 bit (AMD64)]"
  },
  "orig_nbformat": 4,
  "vscode": {
   "interpreter": {
    "hash": "16733b937653245b998924c3957ffd26102264677e01b42e71bf8548498724a5"
   }
  }
 },
 "nbformat": 4,
 "nbformat_minor": 2
}
